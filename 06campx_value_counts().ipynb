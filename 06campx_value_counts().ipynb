{
 "cells": [
  {
   "cell_type": "markdown",
   "metadata": {},
   "source": [
    "# value_counts() Function\n",
    "- This function is applied on categorical data to get the frequency of each category.\n",
    "- It is applied on the series."
   ]
  },
  {
   "cell_type": "markdown",
   "metadata": {},
   "source": [
    "Finding how many matches are won by a team."
   ]
  },
  {
   "cell_type": "code",
   "execution_count": 3,
   "metadata": {},
   "outputs": [
    {
     "data": {
      "text/plain": [
       "winner\n",
       "Mumbai Indians                 92\n",
       "Chennai Super Kings            79\n",
       "Kolkata Knight Riders          77\n",
       "Royal Challengers Bangalore    73\n",
       "Kings XI Punjab                70\n",
       "Rajasthan Royals               63\n",
       "Delhi Daredevils               62\n",
       "Sunrisers Hyderabad            42\n",
       "Deccan Chargers                29\n",
       "Gujarat Lions                  13\n",
       "Pune Warriors                  12\n",
       "Rising Pune Supergiant         10\n",
       "Kochi Tuskers Kerala            6\n",
       "Rising Pune Supergiants         5\n",
       "Name: count, dtype: int64"
      ]
     },
     "execution_count": 3,
     "metadata": {},
     "output_type": "execute_result"
    }
   ],
   "source": [
    "import pandas as pd \n",
    "\n",
    "data=pd.read_csv(\"matches.csv\")\n",
    "data[\"winner\"].value_counts()\n"
   ]
  }
 ],
 "metadata": {
  "kernelspec": {
   "display_name": "Python 3",
   "language": "python",
   "name": "python3"
  },
  "language_info": {
   "codemirror_mode": {
    "name": "ipython",
    "version": 3
   },
   "file_extension": ".py",
   "mimetype": "text/x-python",
   "name": "python",
   "nbconvert_exporter": "python",
   "pygments_lexer": "ipython3",
   "version": "3.11.4"
  }
 },
 "nbformat": 4,
 "nbformat_minor": 2
}
